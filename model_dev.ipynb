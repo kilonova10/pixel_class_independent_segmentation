{
 "cells": [
  {
   "cell_type": "code",
   "execution_count": 1,
   "metadata": {},
   "outputs": [],
   "source": [
    "## Write a standard FCN net model for segmentation\n"
   ]
  },
  {
   "cell_type": "code",
   "execution_count": 10,
   "metadata": {},
   "outputs": [],
   "source": [
    "import scipy.misc as misc\n",
    "import torch\n",
    "import copy\n",
    "import torchvision.models as models\n",
    "import numpy as np\n",
    "import torch.nn as nn\n",
    "import torch.nn.functional as F"
   ]
  },
  {
   "cell_type": "code",
   "execution_count": null,
   "metadata": {},
   "outputs": [],
   "source": [
    "class Net(nn.Module):\n",
    "    \n",
    "    def _init_(self, num_classes = 2):\n",
    "        ## Standard FCN model\n",
    "         super(Net, self).__init__()\n",
    "            ## resnet 50 acts as an encoder\n",
    "            self.Encoder = models.resnet50(pretrained=True)\n",
    "            # \n",
    "            self.PSPScales = [1, 1 / 2, 1 / 4, 1 / 8]\n",
    "            \n",
    "            self.PSPLayers = nn.ModuleList()\n",
    "            \n",
    "            for scale in self.PSPScales:\n",
    "                "
   ]
  }
 ],
 "metadata": {
  "kernelspec": {
   "display_name": "Python 3",
   "language": "python",
   "name": "python3"
  },
  "language_info": {
   "codemirror_mode": {
    "name": "ipython",
    "version": 3
   },
   "file_extension": ".py",
   "mimetype": "text/x-python",
   "name": "python",
   "nbconvert_exporter": "python",
   "pygments_lexer": "ipython3",
   "version": "3.6.5"
  }
 },
 "nbformat": 4,
 "nbformat_minor": 2
}
