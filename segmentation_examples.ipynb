{
 "cells": [
  {
   "cell_type": "code",
   "execution_count": 1,
   "metadata": {},
   "outputs": [
    {
     "ename": "ImportError",
     "evalue": "dlopen(/Users/pranavbarot/anaconda3/lib/python3.6/site-packages/torch/_C.cpython-36m-darwin.so, 9): Library not loaded: /usr/local/opt/libomp/lib/libomp.dylib\n  Referenced from: /Users/pranavbarot/anaconda3/lib/python3.6/site-packages/torch/lib/libshm.dylib\n  Reason: image not found",
     "output_type": "error",
     "traceback": [
      "\u001b[0;31m---------------------------------------------------------------------------\u001b[0m",
      "\u001b[0;31mImportError\u001b[0m                               Traceback (most recent call last)",
      "\u001b[0;32m<ipython-input-1-d076cb5cbce9>\u001b[0m in \u001b[0;36m<module>\u001b[0;34m()\u001b[0m\n\u001b[1;32m      8\u001b[0m \u001b[0;34m\u001b[0m\u001b[0m\n\u001b[1;32m      9\u001b[0m \u001b[0;34m\u001b[0m\u001b[0m\n\u001b[0;32m---> 10\u001b[0;31m \u001b[0;32mimport\u001b[0m \u001b[0mtorch\u001b[0m\u001b[0;34m\u001b[0m\u001b[0m\n\u001b[0m\u001b[1;32m     11\u001b[0m \u001b[0;32mimport\u001b[0m \u001b[0mnumpy\u001b[0m \u001b[0;32mas\u001b[0m \u001b[0mnp\u001b[0m\u001b[0;34m\u001b[0m\u001b[0m\n\u001b[1;32m     12\u001b[0m \u001b[0;32mimport\u001b[0m \u001b[0mFCN_NetModel\u001b[0m \u001b[0;32mas\u001b[0m \u001b[0mNET_FCN\u001b[0m\u001b[0;31m# The net Class\u001b[0m\u001b[0;34m\u001b[0m\u001b[0m\n",
      "\u001b[0;32m~/anaconda3/lib/python3.6/site-packages/torch/__init__.py\u001b[0m in \u001b[0;36m<module>\u001b[0;34m()\u001b[0m\n\u001b[1;32m     77\u001b[0m \u001b[0;32mdel\u001b[0m \u001b[0m_dl_flags\u001b[0m\u001b[0;34m\u001b[0m\u001b[0m\n\u001b[1;32m     78\u001b[0m \u001b[0;34m\u001b[0m\u001b[0m\n\u001b[0;32m---> 79\u001b[0;31m \u001b[0;32mfrom\u001b[0m \u001b[0mtorch\u001b[0m\u001b[0;34m.\u001b[0m\u001b[0m_C\u001b[0m \u001b[0;32mimport\u001b[0m \u001b[0;34m*\u001b[0m\u001b[0;34m\u001b[0m\u001b[0m\n\u001b[0m\u001b[1;32m     80\u001b[0m \u001b[0;34m\u001b[0m\u001b[0m\n\u001b[1;32m     81\u001b[0m __all__ += [name for name in dir(_C)\n",
      "\u001b[0;31mImportError\u001b[0m: dlopen(/Users/pranavbarot/anaconda3/lib/python3.6/site-packages/torch/_C.cpython-36m-darwin.so, 9): Library not loaded: /usr/local/opt/libomp/lib/libomp.dylib\n  Referenced from: /Users/pranavbarot/anaconda3/lib/python3.6/site-packages/torch/lib/libshm.dylib\n  Reason: image not found"
     ]
    }
   ],
   "source": [
    "# Run segmentation for full image  (In Run_Segmentation.py)\n",
    "# 1) Train the net or download pre-trained model from:\n",
    "# 2) Set the path to the pre-trained model in the Trained_model_path parameter\n",
    "# 3) Set path for test image in the InputImagePath parameter (or leave as is)\n",
    "# 4) Set path where the output overlay annotation map  in the OutputFile parameter\n",
    "# 5) Run script\n",
    "\n",
    "\n",
    "\n",
    "import torch\n",
    "import numpy as np\n",
    "import FCN_NetModel as NET_FCN# The net Class\n",
    "from PIL import Image\n",
    "#.....................................Input parametrs..................................................................................................................\n",
    "InputImagePath=\"TestImages/Image3.jpg\"\n",
    "Trained_model_path=\"logs/TrainedModePointerImageSegmentation1.8m.torch\"# Path of trained model\n",
    "OutputFile=\"TestImages/Label.png\"\n",
    "#---------------------Create and Initiate net and create optimizer------------------------------------------------------------------------------------\n",
    "print(\"Loadin model\")\n",
    "Net=NET_FCN.Net(NumClasses=2) # Create net and load pretrained encoder path\n",
    "Net.AddAttententionLayer() # Load attention layer\n",
    "Net=Net.cuda()\n",
    "Net.load_state_dict(torch.load(Trained_model_path)) # load traine model\n",
    "Net.eval()\n",
    "print(\"Model Loaded\")\n",
    "#----------------------------------------Read image and generate initial ROI mask--------------------------------------------------------------------------------------------------------------\n",
    "Im=Image.open(InputImagePath)\n",
    "Im.show()\n",
    "I=np.array(Im)[:,:,0:3]\n",
    "H,W,d=I.shape\n",
    "I=np.expand_dims(I,0)\n",
    "ROIMask=np.ones(I.shape[:3]) # Generate ROI mask that cover the full image\n",
    "#-------------------------------Start sequential segmentation--------------------------------------------------------------\n",
    "for ii in range(100):\n",
    "\n",
    "#--------------pick random point in ROI mask----------------------------------------------------\n",
    "        print(\"picking next point point\")\n",
    "        while (True):\n",
    "            X = np.random.randint(W)\n",
    "            Y = np.random.randint(H)\n",
    "            if ROIMask[0,Y,X]==1: break\n",
    "#==============Generate Pointer mask==================================================================================\n",
    "        PointerMask=np.zeros(ROIMask.shape)\n",
    "        PointerMask[0, Y, X] = 1\n",
    "\n",
    "#==============run inference predict segment==================================================================================\n",
    "        Prob, PredLb = Net.forward(Images=I, Pointer=PointerMask,ROI=ROIMask)  # Run net inference and get prediction\n",
    "        PredLb=PredLb.data.cpu().numpy()\n",
    "        ROIMask[PredLb == 1] = 0 # Remove predicted segment from the ROI mask\n",
    "\n",
    "#===========Stiched the predicted segment to full segmentation mask========================================================\n",
    "        if ii==0:\n",
    "            SegViz=np.zeros(I[0].shape,dtype=np.uint8)\n",
    "        SegViz[:,:, 0] += np.uint8(PredLb[0]*(ii+1)*21%255)\n",
    "        SegViz[:,:, 1] += np.uint8(PredLb[0]*((ii+1)*67) % 255)\n",
    "        SegViz[:,:, 2] += np.uint8(PredLb[0]*((ii+1) * 111) % 255)\n",
    "#============================break when 95% of the image have been segmented==================================================================================\n",
    "        if (ROIMask.sum() / W / H) < 0.05: break\n",
    "        print(str(ii)+\") ROI as fraction of image\"+str(ROIMask.sum() / W / H))\n",
    "#=============================Display and save reslut====================================================================================\n",
    "OverLay=(I[0]*0.2+SegViz*0.8).astype(np.uint8)\n",
    "disp1 = Image.fromarray(OverLay, 'RGB')\n",
    "disp1.show()\n",
    "disp1.save(OutputFile)"
   ]
  }
 ],
 "metadata": {
  "kernelspec": {
   "display_name": "Python 3",
   "language": "python",
   "name": "python3"
  },
  "language_info": {
   "codemirror_mode": {
    "name": "ipython",
    "version": 3
   },
   "file_extension": ".py",
   "mimetype": "text/x-python",
   "name": "python",
   "nbconvert_exporter": "python",
   "pygments_lexer": "ipython3",
   "version": "3.6.5"
  }
 },
 "nbformat": 4,
 "nbformat_minor": 2
}
